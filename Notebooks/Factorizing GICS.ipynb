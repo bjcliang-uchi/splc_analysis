{
 "cells": [
  {
   "cell_type": "code",
   "execution_count": 1,
   "metadata": {},
   "outputs": [],
   "source": [
    "path = getwd()\n",
    "path = substr(path, 1, nchar(path)-9)\n",
    "setwd(paste0(path, \"data\"))"
   ]
  },
  {
   "cell_type": "code",
   "execution_count": 2,
   "metadata": {},
   "outputs": [
    {
     "data": {
      "text/html": [
       "'/Users/chen.liang/Desktop/变量/splc_analysis/data'"
      ],
      "text/latex": [
       "'/Users/chen.liang/Desktop/变量/splc\\_analysis/data'"
      ],
      "text/markdown": [
       "'/Users/chen.liang/Desktop/变量/splc_analysis/data'"
      ],
      "text/plain": [
       "[1] \"/Users/chen.liang/Desktop/变量/splc_analysis/data\""
      ]
     },
     "metadata": {},
     "output_type": "display_data"
    }
   ],
   "source": [
    "getwd()"
   ]
  },
  {
   "cell_type": "code",
   "execution_count": 3,
   "metadata": {},
   "outputs": [
    {
     "data": {
      "text/html": [
       "<table>\n",
       "<thead><tr><th scope=col>ticker</th><th scope=col>id</th><th scope=col>country</th><th scope=col>type_label</th></tr></thead>\n",
       "<tbody>\n",
       "\t<tr><td>601138 CH Equity                  </td><td>Foxconn Industrial Internet Co Ltd</td><td>CN                                </td><td>Technology Hardware &amp; Equipmen</td></tr>\n",
       "</tbody>\n",
       "</table>\n"
      ],
      "text/latex": [
       "\\begin{tabular}{r|llll}\n",
       " ticker & id & country & type\\_label\\\\\n",
       "\\hline\n",
       "\t 601138 CH Equity                   & Foxconn Industrial Internet Co Ltd & CN                                 & Technology Hardware \\& Equipmen  \\\\\n",
       "\\end{tabular}\n"
      ],
      "text/markdown": [
       "\n",
       "| ticker | id | country | type_label |\n",
       "|---|---|---|---|\n",
       "| 601138 CH Equity                   | Foxconn Industrial Internet Co Ltd | CN                                 | Technology Hardware & Equipmen     |\n",
       "\n"
      ],
      "text/plain": [
       "  ticker           id                                 country\n",
       "1 601138 CH Equity Foxconn Industrial Internet Co Ltd CN     \n",
       "  type_label                    \n",
       "1 Technology Hardware & Equipmen"
      ]
     },
     "metadata": {},
     "output_type": "display_data"
    },
    {
     "data": {
      "text/html": [
       "<table>\n",
       "<thead><tr><th scope=col>to</th><th scope=col>from</th><th scope=col>weight</th></tr></thead>\n",
       "<tbody>\n",
       "\t<tr><td>Huawei Investment &amp; Holding Co Ltd</td><td>Foxconn Industrial Internet Co Ltd    </td><td>1585.7283218852                       </td></tr>\n",
       "</tbody>\n",
       "</table>\n"
      ],
      "text/latex": [
       "\\begin{tabular}{r|lll}\n",
       " to & from & weight\\\\\n",
       "\\hline\n",
       "\t Huawei Investment \\& Holding Co Ltd & Foxconn Industrial Internet Co Ltd   & 1585.7283218852                     \\\\\n",
       "\\end{tabular}\n"
      ],
      "text/markdown": [
       "\n",
       "| to | from | weight |\n",
       "|---|---|---|\n",
       "| Huawei Investment & Holding Co Ltd | Foxconn Industrial Internet Co Ltd | 1585.7283218852                    |\n",
       "\n"
      ],
      "text/plain": [
       "  to                                 from                              \n",
       "1 Huawei Investment & Holding Co Ltd Foxconn Industrial Internet Co Ltd\n",
       "  weight         \n",
       "1 1585.7283218852"
      ]
     },
     "metadata": {},
     "output_type": "display_data"
    }
   ],
   "source": [
    "Nodes_Data = readRDS(file = \"Temp/Nodes_Data.rds\")\n",
    "Edges_Data = readRDS(file = \"Temp/Edges_Data.rds\")\n",
    "\n",
    "Nodes_Data[0:1,]\n",
    "Edges_Data[0:1,]"
   ]
  },
  {
   "cell_type": "code",
   "execution_count": 5,
   "metadata": {},
   "outputs": [
    {
     "data": {
      "text/plain": [
       "\n",
       "                      #N/A N/A       Automobiles & Components \n",
       "                            28                              2 \n",
       "                         Banks                  Capital Goods \n",
       "                             1                             15 \n",
       "Commercial & Professional Serv    Consumer Durables & Apparel \n",
       "                             1                             10 \n",
       "             Consumer Services         Diversified Financials \n",
       "                             2                              1 \n",
       "                        Energy       Food & Staples Retailing \n",
       "                             4                              4 \n",
       "      Food, Beverage & Tobacco Health Care Equipment & Servic \n",
       "                             2                              1 \n",
       " Household & Personal Products                      Insurance \n",
       "                             4                              2 \n",
       "                     Materials          Media & Entertainment \n",
       "                            17                              9 \n",
       "                   Real Estate                      Retailing \n",
       "                             1                              9 \n",
       "Semiconductors & Semiconductor            Software & Services \n",
       "                            31                             12 \n",
       "Technology Hardware & Equipmen     Telecommunication Services \n",
       "                            65                             21 \n",
       "                Transportation                      Utilities \n",
       "                             1                              1 "
      ]
     },
     "metadata": {},
     "output_type": "display_data"
    }
   ],
   "source": [
    "table(Nodes_Data$type_label)"
   ]
  },
  {
   "cell_type": "markdown",
   "metadata": {},
   "source": [
    "## For Phones"
   ]
  },
  {
   "cell_type": "code",
   "execution_count": 9,
   "metadata": {},
   "outputs": [],
   "source": [
    "type0=c(\"#N/A N/A\")\n",
    "type1=c(\"Materials\",\"Energy\",\"Utilities\")\n",
    "type2=c(\"Technology Hardware & Equipmen\",\"Semiconductors & Semiconductor\",\n",
    "        \"Capital Goods\")\n",
    "type3=c(\"Software & Services\",\"Telecommunication Services\",\n",
    "        \"Consumer Durables & Apparel\")\n",
    "type4=c(\"Automobiles & Components\",\"Transportation\",\n",
    "        \"Commercial & Professional Serv\",\"Household & Personal Products\",\n",
    "        \"Health Care Equipment & Servic\",\"Consumer Services\",\n",
    "        \"Retailing\")\n",
    "type5=c(\"Insurance\",\"Media & Entertainment\",\n",
    "        \"Food & Staples Retailing\",\n",
    "        \"Food, Beverage & Tobacco\",\"Real Estate\",\"Banks\",\n",
    "        \"Diversified Financials\")"
   ]
  },
  {
   "cell_type": "code",
   "execution_count": null,
   "metadata": {},
   "outputs": [],
   "source": []
  },
  {
   "cell_type": "markdown",
   "metadata": {},
   "source": [
    "# Factorize"
   ]
  },
  {
   "cell_type": "code",
   "execution_count": 10,
   "metadata": {},
   "outputs": [
    {
     "data": {
      "text/plain": [
       "\n",
       "  0   1   2   3   4   5 \n",
       " 28  22 111  43  20  20 "
      ]
     },
     "metadata": {},
     "output_type": "display_data"
    },
    {
     "data": {
      "text/html": [],
      "text/latex": [],
      "text/markdown": [],
      "text/plain": [
       "character(0)"
      ]
     },
     "metadata": {},
     "output_type": "display_data"
    }
   ],
   "source": [
    "Nodes_Data$Type_color = -1\n",
    "for(i in 1:nrow(Nodes_Data)){\n",
    "  if(Nodes_Data$type_label[i] %in% type0){\n",
    "    Nodes_Data$Type_color[i]=0\n",
    "  }\n",
    "  if(Nodes_Data$type_label[i] %in% type1){\n",
    "    Nodes_Data$Type_color[i]=1\n",
    "  }\n",
    "  if(Nodes_Data$type_label[i] %in% type2){\n",
    "    Nodes_Data$Type_color[i]=2\n",
    "  }\n",
    "  if(Nodes_Data$type_label[i] %in% type3){\n",
    "    Nodes_Data$Type_color[i]=3\n",
    "  }\n",
    "  if(Nodes_Data$type_label[i] %in% type4){\n",
    "    Nodes_Data$Type_color[i]=4\n",
    "  }\n",
    "  if(Nodes_Data$type_label[i] %in% type5){\n",
    "    Nodes_Data$Type_color[i]=5\n",
    "  }\n",
    "}\n",
    "table(Nodes_Data$Type_color)\n",
    "Nodes_Data$type_label[Nodes_Data$Type_color == -1]"
   ]
  },
  {
   "cell_type": "code",
   "execution_count": 12,
   "metadata": {},
   "outputs": [],
   "source": [
    "path = getwd()\n",
    "setwd(paste0(path, \"/Temp\"))\n",
    "saveRDS(Nodes_Data, file = \"Nodes_Data.rds\")\n",
    "saveRDS(Edges_Data, file = \"Edges_Data.rds\")"
   ]
  },
  {
   "cell_type": "code",
   "execution_count": null,
   "metadata": {},
   "outputs": [],
   "source": []
  }
 ],
 "metadata": {
  "kernelspec": {
   "display_name": "R",
   "language": "R",
   "name": "ir"
  },
  "language_info": {
   "codemirror_mode": "r",
   "file_extension": ".r",
   "mimetype": "text/x-r-source",
   "name": "R",
   "pygments_lexer": "r",
   "version": "3.6.1"
  }
 },
 "nbformat": 4,
 "nbformat_minor": 2
}
