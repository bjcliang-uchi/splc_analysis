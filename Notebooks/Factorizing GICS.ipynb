{
 "cells": [
  {
   "cell_type": "code",
   "execution_count": 34,
   "metadata": {},
   "outputs": [],
   "source": [
    "path = getwd()\n",
    "path = substr(path, 1, nchar(path)-9)\n",
    "setwd(paste0(path, \"data\"))"
   ]
  },
  {
   "cell_type": "code",
   "execution_count": 35,
   "metadata": {},
   "outputs": [
    {
     "data": {
      "text/html": [
       "'/Users/chen.liang/Desktop/变量/splc_analysis/data'"
      ],
      "text/latex": [
       "'/Users/chen.liang/Desktop/变量/splc\\_analysis/data'"
      ],
      "text/markdown": [
       "'/Users/chen.liang/Desktop/变量/splc_analysis/data'"
      ],
      "text/plain": [
       "[1] \"/Users/chen.liang/Desktop/变量/splc_analysis/data\""
      ]
     },
     "metadata": {},
     "output_type": "display_data"
    }
   ],
   "source": [
    "getwd()"
   ]
  },
  {
   "cell_type": "code",
   "execution_count": 36,
   "metadata": {},
   "outputs": [
    {
     "data": {
      "text/html": [
       "<table>\n",
       "<thead><tr><th scope=col>id</th><th scope=col>country</th><th scope=col>type_label</th><th scope=col>size</th></tr></thead>\n",
       "<tbody>\n",
       "\t<tr><td>Flex Ltd                          </td><td>US                                </td><td>Technology Hardware &amp; Equipmen</td><td>3.5                               </td></tr>\n",
       "</tbody>\n",
       "</table>\n"
      ],
      "text/latex": [
       "\\begin{tabular}{r|llll}\n",
       " id & country & type\\_label & size\\\\\n",
       "\\hline\n",
       "\t Flex Ltd                         & US                               & Technology Hardware \\& Equipmen & 3.5                             \\\\\n",
       "\\end{tabular}\n"
      ],
      "text/markdown": [
       "\n",
       "| id | country | type_label | size |\n",
       "|---|---|---|---|\n",
       "| Flex Ltd                       | US                             | Technology Hardware & Equipmen | 3.5                            |\n",
       "\n"
      ],
      "text/plain": [
       "  id       country type_label                     size\n",
       "1 Flex Ltd US      Technology Hardware & Equipmen 3.5 "
      ]
     },
     "metadata": {},
     "output_type": "display_data"
    },
    {
     "data": {
      "text/html": [
       "<table>\n",
       "<thead><tr><th scope=col>to</th><th scope=col>from</th><th scope=col>weight</th></tr></thead>\n",
       "<tbody>\n",
       "\t<tr><td>Applied Materials Inc</td><td>Flex Ltd             </td><td>1                    </td></tr>\n",
       "</tbody>\n",
       "</table>\n"
      ],
      "text/latex": [
       "\\begin{tabular}{r|lll}\n",
       " to & from & weight\\\\\n",
       "\\hline\n",
       "\t Applied Materials Inc & Flex Ltd              & 1                    \\\\\n",
       "\\end{tabular}\n"
      ],
      "text/markdown": [
       "\n",
       "| to | from | weight |\n",
       "|---|---|---|\n",
       "| Applied Materials Inc | Flex Ltd              | 1                     |\n",
       "\n"
      ],
      "text/plain": [
       "  to                    from     weight\n",
       "1 Applied Materials Inc Flex Ltd 1     "
      ]
     },
     "metadata": {},
     "output_type": "display_data"
    },
    {
     "data": {
      "text/html": [
       "463"
      ],
      "text/latex": [
       "463"
      ],
      "text/markdown": [
       "463"
      ],
      "text/plain": [
       "[1] 463"
      ]
     },
     "metadata": {},
     "output_type": "display_data"
    }
   ],
   "source": [
    "Nodes_Data = readRDS(file = \"Temp/Nodes_Data.rds\")\n",
    "Edges_Data = readRDS(file = \"Temp/Edges_Data.rds\")\n",
    "\n",
    "Nodes_Data[0:1,]\n",
    "Edges_Data[0:1,]\n",
    "\n",
    "nrow(Nodes_Data)"
   ]
  },
  {
   "cell_type": "code",
   "execution_count": 37,
   "metadata": {},
   "outputs": [
    {
     "data": {
      "text/plain": [
       "\n",
       "                      #N/A N/A       Automobiles & Components \n",
       "                            17                             34 \n",
       "                 Capital Goods Commercial & Professional Serv \n",
       "                            52                              1 \n",
       "   Consumer Durables & Apparel         Diversified Financials \n",
       "                            11                              1 \n",
       "                        Energy       Food & Staples Retailing \n",
       "                            10                              8 \n",
       "      Food, Beverage & Tobacco Health Care Equipment & Servic \n",
       "                             5                              1 \n",
       " Household & Personal Products                      Insurance \n",
       "                             5                              1 \n",
       "                     Materials          Media & Entertainment \n",
       "                            62                              6 \n",
       "Pharmaceuticals, Biotechnology                    Real Estate \n",
       "                             2                              2 \n",
       "                     Retailing Semiconductors & Semiconductor \n",
       "                            17                             86 \n",
       "           Software & Services Technology Hardware & Equipmen \n",
       "                             9                            105 \n",
       "    Telecommunication Services                 Transportation \n",
       "                            17                              9 \n",
       "                     Utilities \n",
       "                             2 "
      ]
     },
     "metadata": {},
     "output_type": "display_data"
    }
   ],
   "source": [
    "table(Nodes_Data$type_label)"
   ]
  },
  {
   "cell_type": "markdown",
   "metadata": {},
   "source": [
    "## For Phones"
   ]
  },
  {
   "cell_type": "code",
   "execution_count": 38,
   "metadata": {},
   "outputs": [],
   "source": [
    "type0=c(\"#N/A N/A\")\n",
    "type1=c(\"Materials\",\"Energy\",\"Utilities\")\n",
    "type2=c(\"Technology Hardware & Equipmen\",\"Semiconductors & Semiconductor\",\n",
    "        \"Capital Goods\")\n",
    "type3=c(\"Software & Services\",\"Telecommunication Services\",\n",
    "        \"Consumer Durables & Apparel\")\n",
    "type4=c(\"Automobiles & Components\",\"Transportation\",\n",
    "        \"Commercial & Professional Serv\",\"Household & Personal Products\",\n",
    "        \"Health Care Equipment & Servic\",\"Consumer Services\",\n",
    "        \"Retailing\",'Pharmaceuticals, Biotechnology')\n",
    "type5=c(\"Insurance\",\"Media & Entertainment\",\n",
    "        \"Food & Staples Retailing\",\n",
    "        \"Food, Beverage & Tobacco\",\"Real Estate\",\"Banks\",\n",
    "        \"Diversified Financials\")"
   ]
  },
  {
   "cell_type": "code",
   "execution_count": null,
   "metadata": {},
   "outputs": [],
   "source": []
  },
  {
   "cell_type": "markdown",
   "metadata": {},
   "source": [
    "# Factorize"
   ]
  },
  {
   "cell_type": "code",
   "execution_count": 39,
   "metadata": {},
   "outputs": [
    {
     "data": {
      "text/plain": [
       "\n",
       "  0   1   2   3   4   5 \n",
       " 17  74 243  37  69  23 "
      ]
     },
     "metadata": {},
     "output_type": "display_data"
    },
    {
     "data": {
      "text/html": [],
      "text/latex": [],
      "text/markdown": [],
      "text/plain": [
       "character(0)"
      ]
     },
     "metadata": {},
     "output_type": "display_data"
    }
   ],
   "source": [
    "Nodes_Data$Type_color = -1\n",
    "for(i in 1:nrow(Nodes_Data)){\n",
    "  if(Nodes_Data$type_label[i] %in% type0){\n",
    "    Nodes_Data$Type_color[i]=0\n",
    "  }\n",
    "  if(Nodes_Data$type_label[i] %in% type1){\n",
    "    Nodes_Data$Type_color[i]=1\n",
    "  }\n",
    "  if(Nodes_Data$type_label[i] %in% type2){\n",
    "    Nodes_Data$Type_color[i]=2\n",
    "  }\n",
    "  if(Nodes_Data$type_label[i] %in% type3){\n",
    "    Nodes_Data$Type_color[i]=3\n",
    "  }\n",
    "  if(Nodes_Data$type_label[i] %in% type4){\n",
    "    Nodes_Data$Type_color[i]=4\n",
    "  }\n",
    "  if(Nodes_Data$type_label[i] %in% type5){\n",
    "    Nodes_Data$Type_color[i]=5\n",
    "  }\n",
    "}\n",
    "table(Nodes_Data$Type_color)\n",
    "Nodes_Data$type_label[Nodes_Data$Type_color == -1]"
   ]
  },
  {
   "cell_type": "code",
   "execution_count": 40,
   "metadata": {},
   "outputs": [],
   "source": [
    "path = getwd()\n",
    "setwd(paste0(path, \"/Temp\"))\n",
    "saveRDS(Nodes_Data, file = \"Nodes_Data.rds\")\n",
    "saveRDS(Edges_Data, file = \"Edges_Data.rds\")"
   ]
  },
  {
   "cell_type": "code",
   "execution_count": null,
   "metadata": {},
   "outputs": [],
   "source": []
  }
 ],
 "metadata": {
  "kernelspec": {
   "display_name": "R",
   "language": "R",
   "name": "ir"
  },
  "language_info": {
   "codemirror_mode": "r",
   "file_extension": ".r",
   "mimetype": "text/x-r-source",
   "name": "R",
   "pygments_lexer": "r",
   "version": "3.6.1"
  }
 },
 "nbformat": 4,
 "nbformat_minor": 2
}
