{
 "cells": [
  {
   "cell_type": "code",
   "execution_count": 11,
   "metadata": {},
   "outputs": [],
   "source": [
    "path = getwd()\n",
    "path = substr(path, 1, nchar(path)-9)\n",
    "setwd(paste0(path, \"data\"))"
   ]
  },
  {
   "cell_type": "code",
   "execution_count": 12,
   "metadata": {},
   "outputs": [
    {
     "data": {
      "text/html": [
       "'/Users/chen.liang/Desktop/变量/splc_analysis/data'"
      ],
      "text/latex": [
       "'/Users/chen.liang/Desktop/变量/splc\\_analysis/data'"
      ],
      "text/markdown": [
       "'/Users/chen.liang/Desktop/变量/splc_analysis/data'"
      ],
      "text/plain": [
       "[1] \"/Users/chen.liang/Desktop/变量/splc_analysis/data\""
      ]
     },
     "metadata": {},
     "output_type": "display_data"
    }
   ],
   "source": [
    "getwd()"
   ]
  },
  {
   "cell_type": "code",
   "execution_count": 13,
   "metadata": {},
   "outputs": [
    {
     "data": {
      "text/html": [
       "<table>\n",
       "<thead><tr><th scope=col>ticker</th><th scope=col>id</th><th scope=col>country</th><th scope=col>type_label</th></tr></thead>\n",
       "<tbody>\n",
       "\t<tr><td>FLEX US Equity                    </td><td>Flex Ltd                          </td><td>US                                </td><td>Technology Hardware &amp; Equipmen</td></tr>\n",
       "</tbody>\n",
       "</table>\n"
      ],
      "text/latex": [
       "\\begin{tabular}{r|llll}\n",
       " ticker & id & country & type\\_label\\\\\n",
       "\\hline\n",
       "\t FLEX US Equity                   & Flex Ltd                         & US                               & Technology Hardware \\& Equipmen\\\\\n",
       "\\end{tabular}\n"
      ],
      "text/markdown": [
       "\n",
       "| ticker | id | country | type_label |\n",
       "|---|---|---|---|\n",
       "| FLEX US Equity                 | Flex Ltd                       | US                             | Technology Hardware & Equipmen |\n",
       "\n"
      ],
      "text/plain": [
       "  ticker         id       country type_label                    \n",
       "1 FLEX US Equity Flex Ltd US      Technology Hardware & Equipmen"
      ]
     },
     "metadata": {},
     "output_type": "display_data"
    },
    {
     "data": {
      "text/html": [
       "<table>\n",
       "<thead><tr><th scope=col>to</th><th scope=col>from</th><th scope=col>weight</th></tr></thead>\n",
       "<tbody>\n",
       "\t<tr><td>Applied Materials Inc</td><td>Flex Ltd             </td><td>74.485176            </td></tr>\n",
       "</tbody>\n",
       "</table>\n"
      ],
      "text/latex": [
       "\\begin{tabular}{r|lll}\n",
       " to & from & weight\\\\\n",
       "\\hline\n",
       "\t Applied Materials Inc & Flex Ltd              & 74.485176            \\\\\n",
       "\\end{tabular}\n"
      ],
      "text/markdown": [
       "\n",
       "| to | from | weight |\n",
       "|---|---|---|\n",
       "| Applied Materials Inc | Flex Ltd              | 74.485176             |\n",
       "\n"
      ],
      "text/plain": [
       "  to                    from     weight   \n",
       "1 Applied Materials Inc Flex Ltd 74.485176"
      ]
     },
     "metadata": {},
     "output_type": "display_data"
    }
   ],
   "source": [
    "Nodes_Data = readRDS(file = \"Temp/Nodes_Data.rds\")\n",
    "Edges_Data = readRDS(file = \"Temp/Edges_Data.rds\")\n",
    "\n",
    "Nodes_Data[0:1,]\n",
    "Edges_Data[0:1,]"
   ]
  },
  {
   "cell_type": "code",
   "execution_count": 14,
   "metadata": {},
   "outputs": [
    {
     "data": {
      "text/plain": [
       "\n",
       "                      #N/A N/A       Automobiles & Components \n",
       "                           138                             71 \n",
       "                         Banks                  Capital Goods \n",
       "                             4                            156 \n",
       "Commercial & Professional Serv    Consumer Durables & Apparel \n",
       "                             5                             35 \n",
       "             Consumer Services         Diversified Financials \n",
       "                             5                              3 \n",
       "                        Energy       Food & Staples Retailing \n",
       "                            40                             19 \n",
       "      Food, Beverage & Tobacco Health Care Equipment & Servic \n",
       "                            29                              8 \n",
       " Household & Personal Products                      Insurance \n",
       "                            10                              2 \n",
       "                     Materials          Media & Entertainment \n",
       "                           158                             26 \n",
       "Pharmaceuticals, Biotechnology                    Real Estate \n",
       "                            12                              4 \n",
       "                     Retailing Semiconductors & Semiconductor \n",
       "                            43                            141 \n",
       "           Software & Services Technology Hardware & Equipmen \n",
       "                            35                            173 \n",
       "    Telecommunication Services                 Transportation \n",
       "                            26                             28 \n",
       "                     Utilities \n",
       "                            14 "
      ]
     },
     "metadata": {},
     "output_type": "display_data"
    }
   ],
   "source": [
    "table(Nodes_Data$type_label)"
   ]
  },
  {
   "cell_type": "markdown",
   "metadata": {},
   "source": [
    "## For Phones"
   ]
  },
  {
   "cell_type": "code",
   "execution_count": 15,
   "metadata": {},
   "outputs": [],
   "source": [
    "type0=c(\"#N/A N/A\")\n",
    "type1=c(\"Materials\",\"Energy\",\"Utilities\")\n",
    "type2=c(\"Technology Hardware & Equipmen\",\"Semiconductors & Semiconductor\",\n",
    "        \"Capital Goods\")\n",
    "type3=c(\"Software & Services\",\"Telecommunication Services\",\n",
    "        \"Consumer Durables & Apparel\")\n",
    "type4=c(\"Automobiles & Components\",\"Transportation\",\n",
    "        \"Commercial & Professional Serv\",\"Household & Personal Products\",\n",
    "        \"Health Care Equipment & Servic\",\"Consumer Services\",\n",
    "        \"Retailing\",'Pharmaceuticals, Biotechnology')\n",
    "type5=c(\"Insurance\",\"Media & Entertainment\",\n",
    "        \"Food & Staples Retailing\",\n",
    "        \"Food, Beverage & Tobacco\",\"Real Estate\",\"Banks\",\n",
    "        \"Diversified Financials\")"
   ]
  },
  {
   "cell_type": "code",
   "execution_count": null,
   "metadata": {},
   "outputs": [],
   "source": []
  },
  {
   "cell_type": "markdown",
   "metadata": {},
   "source": [
    "# Factorize"
   ]
  },
  {
   "cell_type": "code",
   "execution_count": 16,
   "metadata": {},
   "outputs": [
    {
     "data": {
      "text/plain": [
       "\n",
       "  0   1   2   3   4   5 \n",
       "138 212 470  96 182  87 "
      ]
     },
     "metadata": {},
     "output_type": "display_data"
    },
    {
     "data": {
      "text/html": [],
      "text/latex": [],
      "text/markdown": [],
      "text/plain": [
       "character(0)"
      ]
     },
     "metadata": {},
     "output_type": "display_data"
    }
   ],
   "source": [
    "Nodes_Data$Type_color = -1\n",
    "for(i in 1:nrow(Nodes_Data)){\n",
    "  if(Nodes_Data$type_label[i] %in% type0){\n",
    "    Nodes_Data$Type_color[i]=0\n",
    "  }\n",
    "  if(Nodes_Data$type_label[i] %in% type1){\n",
    "    Nodes_Data$Type_color[i]=1\n",
    "  }\n",
    "  if(Nodes_Data$type_label[i] %in% type2){\n",
    "    Nodes_Data$Type_color[i]=2\n",
    "  }\n",
    "  if(Nodes_Data$type_label[i] %in% type3){\n",
    "    Nodes_Data$Type_color[i]=3\n",
    "  }\n",
    "  if(Nodes_Data$type_label[i] %in% type4){\n",
    "    Nodes_Data$Type_color[i]=4\n",
    "  }\n",
    "  if(Nodes_Data$type_label[i] %in% type5){\n",
    "    Nodes_Data$Type_color[i]=5\n",
    "  }\n",
    "}\n",
    "table(Nodes_Data$Type_color)\n",
    "Nodes_Data$type_label[Nodes_Data$Type_color == -1]"
   ]
  },
  {
   "cell_type": "code",
   "execution_count": 17,
   "metadata": {},
   "outputs": [],
   "source": [
    "path = getwd()\n",
    "setwd(paste0(path, \"/Temp\"))\n",
    "saveRDS(Nodes_Data, file = \"Nodes_Data.rds\")\n",
    "saveRDS(Edges_Data, file = \"Edges_Data.rds\")"
   ]
  },
  {
   "cell_type": "code",
   "execution_count": null,
   "metadata": {},
   "outputs": [],
   "source": []
  }
 ],
 "metadata": {
  "kernelspec": {
   "display_name": "R",
   "language": "R",
   "name": "ir"
  },
  "language_info": {
   "codemirror_mode": "r",
   "file_extension": ".r",
   "mimetype": "text/x-r-source",
   "name": "R",
   "pygments_lexer": "r",
   "version": "3.6.1"
  }
 },
 "nbformat": 4,
 "nbformat_minor": 2
}
