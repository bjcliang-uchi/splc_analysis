{
 "cells": [
  {
   "cell_type": "code",
   "execution_count": 1,
   "metadata": {},
   "outputs": [
    {
     "data": {
      "text/html": [
       "'/Users/chen.liang/Desktop/变量/splc_analysis/data'"
      ],
      "text/latex": [
       "'/Users/chen.liang/Desktop/变量/splc\\_analysis/data'"
      ],
      "text/markdown": [
       "'/Users/chen.liang/Desktop/变量/splc_analysis/data'"
      ],
      "text/plain": [
       "[1] \"/Users/chen.liang/Desktop/变量/splc_analysis/data\""
      ]
     },
     "metadata": {},
     "output_type": "display_data"
    }
   ],
   "source": [
    "path = getwd()\n",
    "path = substr(path, 1, nchar(path)-9)\n",
    "setwd(paste0(path, \"data\"))\n",
    "getwd()"
   ]
  },
  {
   "cell_type": "code",
   "execution_count": 2,
   "metadata": {},
   "outputs": [
    {
     "data": {
      "text/html": [
       "<table>\n",
       "<thead><tr><th scope=col>ticker</th><th scope=col>id</th><th scope=col>country</th><th scope=col>type_label</th><th scope=col>Type_color</th></tr></thead>\n",
       "<tbody>\n",
       "\t<tr><td>601138 CH Equity                  </td><td>Foxconn Industrial Internet Co Ltd</td><td>CN                                </td><td>Technology Hardware &amp; Equipmen</td><td>2                                 </td></tr>\n",
       "</tbody>\n",
       "</table>\n"
      ],
      "text/latex": [
       "\\begin{tabular}{r|lllll}\n",
       " ticker & id & country & type\\_label & Type\\_color\\\\\n",
       "\\hline\n",
       "\t 601138 CH Equity                   & Foxconn Industrial Internet Co Ltd & CN                                 & Technology Hardware \\& Equipmen   & 2                                 \\\\\n",
       "\\end{tabular}\n"
      ],
      "text/markdown": [
       "\n",
       "| ticker | id | country | type_label | Type_color |\n",
       "|---|---|---|---|---|\n",
       "| 601138 CH Equity                   | Foxconn Industrial Internet Co Ltd | CN                                 | Technology Hardware & Equipmen     | 2                                  |\n",
       "\n"
      ],
      "text/plain": [
       "  ticker           id                                 country\n",
       "1 601138 CH Equity Foxconn Industrial Internet Co Ltd CN     \n",
       "  type_label                     Type_color\n",
       "1 Technology Hardware & Equipmen 2         "
      ]
     },
     "metadata": {},
     "output_type": "display_data"
    },
    {
     "data": {
      "text/html": [
       "<table>\n",
       "<thead><tr><th scope=col>to</th><th scope=col>from</th><th scope=col>weight</th></tr></thead>\n",
       "<tbody>\n",
       "\t<tr><td>Huawei Investment &amp; Holding Co Ltd</td><td>Foxconn Industrial Internet Co Ltd    </td><td>1585.7283218852                       </td></tr>\n",
       "</tbody>\n",
       "</table>\n"
      ],
      "text/latex": [
       "\\begin{tabular}{r|lll}\n",
       " to & from & weight\\\\\n",
       "\\hline\n",
       "\t Huawei Investment \\& Holding Co Ltd & Foxconn Industrial Internet Co Ltd   & 1585.7283218852                     \\\\\n",
       "\\end{tabular}\n"
      ],
      "text/markdown": [
       "\n",
       "| to | from | weight |\n",
       "|---|---|---|\n",
       "| Huawei Investment & Holding Co Ltd | Foxconn Industrial Internet Co Ltd | 1585.7283218852                    |\n",
       "\n"
      ],
      "text/plain": [
       "  to                                 from                              \n",
       "1 Huawei Investment & Holding Co Ltd Foxconn Industrial Internet Co Ltd\n",
       "  weight         \n",
       "1 1585.7283218852"
      ]
     },
     "metadata": {},
     "output_type": "display_data"
    }
   ],
   "source": [
    "Nodes_Data = readRDS(file = \"Temp/Nodes_Data.rds\")\n",
    "Edges_Data = readRDS(file = \"Temp/Edges_Data.rds\")\n",
    "\n",
    "Nodes_Data[0:1,]\n",
    "Edges_Data[0:1,]"
   ]
  },
  {
   "cell_type": "markdown",
   "metadata": {},
   "source": [
    "# Format Data for Analysis"
   ]
  },
  {
   "cell_type": "code",
   "execution_count": 4,
   "metadata": {},
   "outputs": [],
   "source": [
    "library(dplyr)"
   ]
  },
  {
   "cell_type": "code",
   "execution_count": 8,
   "metadata": {},
   "outputs": [
    {
     "data": {
      "text/html": [
       "<table>\n",
       "<thead><tr><th scope=col>ticker</th><th scope=col>id</th><th scope=col>country</th><th scope=col>type_label</th><th scope=col>Type_color</th><th scope=col>size</th></tr></thead>\n",
       "<tbody>\n",
       "\t<tr><td>MU US Equity                      </td><td>Micron Technology Inc             </td><td>US                                </td><td>Semiconductors &amp; Semiconductor</td><td>2                                 </td><td>3.5                               </td></tr>\n",
       "</tbody>\n",
       "</table>\n"
      ],
      "text/latex": [
       "\\begin{tabular}{r|llllll}\n",
       " ticker & id & country & type\\_label & Type\\_color & size\\\\\n",
       "\\hline\n",
       "\t MU US Equity                     & Micron Technology Inc            & US                               & Semiconductors \\& Semiconductor & 2                                & 3.5                             \\\\\n",
       "\\end{tabular}\n"
      ],
      "text/markdown": [
       "\n",
       "| ticker | id | country | type_label | Type_color | size |\n",
       "|---|---|---|---|---|---|\n",
       "| MU US Equity                   | Micron Technology Inc          | US                             | Semiconductors & Semiconductor | 2                              | 3.5                            |\n",
       "\n"
      ],
      "text/plain": [
       "  ticker       id                    country type_label                    \n",
       "1 MU US Equity Micron Technology Inc US      Semiconductors & Semiconductor\n",
       "  Type_color size\n",
       "1 2          3.5 "
      ]
     },
     "metadata": {},
     "output_type": "display_data"
    },
    {
     "data": {
      "text/html": [
       "<table>\n",
       "<thead><tr><th scope=col>to</th><th scope=col>from</th><th scope=col>weight</th></tr></thead>\n",
       "<tbody>\n",
       "\t<tr><td>Huawei Investment &amp; Holding Co Ltd</td><td>Foxconn Industrial Internet Co Ltd    </td><td>1                                     </td></tr>\n",
       "</tbody>\n",
       "</table>\n"
      ],
      "text/latex": [
       "\\begin{tabular}{r|lll}\n",
       " to & from & weight\\\\\n",
       "\\hline\n",
       "\t Huawei Investment \\& Holding Co Ltd & Foxconn Industrial Internet Co Ltd   & 1                                   \\\\\n",
       "\\end{tabular}\n"
      ],
      "text/markdown": [
       "\n",
       "| to | from | weight |\n",
       "|---|---|---|\n",
       "| Huawei Investment & Holding Co Ltd | Foxconn Industrial Internet Co Ltd | 1                                  |\n",
       "\n"
      ],
      "text/plain": [
       "  to                                 from                               weight\n",
       "1 Huawei Investment & Holding Co Ltd Foxconn Industrial Internet Co Ltd 1     "
      ]
     },
     "metadata": {},
     "output_type": "display_data"
    }
   ],
   "source": [
    "Nodes_Data$size=3.5\n",
    "Edges_Data$weight=1\n",
    "Nodes_Data = Nodes_Data[2:5,]\n",
    "\n",
    "Nodes_Data = Nodes_Data %>% mutate_at(vars(c(\"id\", \"country\", \"type_label\")), as.character)\n",
    "Edges_Data = Edges_Data %>% mutate_at(vars(c(\"to\",\"from\")), as.character)\n",
    "Nodes_Data$Type_color = as.factor(Nodes_Data$Type_color)\n",
    "Edges_Data$weight = as.numeric(Edges_Data$weight)\n",
    "\n",
    "Nodes_Data[0:1,]\n",
    "Edges_Data[0:1,]"
   ]
  },
  {
   "cell_type": "code",
   "execution_count": 10,
   "metadata": {},
   "outputs": [
    {
     "ename": "ERROR",
     "evalue": "Error in library(\"igraph\"): there is no package called ‘igraph’\n",
     "output_type": "error",
     "traceback": [
      "Error in library(\"igraph\"): there is no package called ‘igraph’\nTraceback:\n",
      "1. library(\"igraph\")"
     ]
    }
   ],
   "source": [
    "library(\"igraph\")\n",
    "library(\"RColorBrewer\")"
   ]
  },
  {
   "cell_type": "code",
   "execution_count": 9,
   "metadata": {},
   "outputs": [
    {
     "ename": "ERROR",
     "evalue": "Error in graph_from_data_frame(d = Edges_Data, vertices = Nodes_Data, : could not find function \"graph_from_data_frame\"\n",
     "output_type": "error",
     "traceback": [
      "Error in graph_from_data_frame(d = Edges_Data, vertices = Nodes_Data, : could not find function \"graph_from_data_frame\"\nTraceback:\n"
     ]
    }
   ],
   "source": [
    "net <- graph_from_data_frame(d=Edges_Data, vertices=Nodes_Data, directed=F)"
   ]
  },
  {
   "cell_type": "code",
   "execution_count": 12,
   "metadata": {},
   "outputs": [
    {
     "name": "stderr",
     "output_type": "stream",
     "text": [
      "Warning message in install.packages(\"igraph\"):\n",
      "“installation of package ‘igraph’ had non-zero exit status”Updating HTML index of packages in '.Library'\n",
      "Making 'packages.html' ... done\n"
     ]
    }
   ],
   "source": [
    "install.packages(\"igraph\")"
   ]
  },
  {
   "cell_type": "code",
   "execution_count": null,
   "metadata": {},
   "outputs": [],
   "source": []
  }
 ],
 "metadata": {
  "kernelspec": {
   "display_name": "R",
   "language": "R",
   "name": "ir"
  },
  "language_info": {
   "codemirror_mode": "r",
   "file_extension": ".r",
   "mimetype": "text/x-r-source",
   "name": "R",
   "pygments_lexer": "r",
   "version": "3.6.1"
  }
 },
 "nbformat": 4,
 "nbformat_minor": 2
}
