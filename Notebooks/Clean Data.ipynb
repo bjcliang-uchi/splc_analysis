{
 "cells": [
  {
   "cell_type": "code",
   "execution_count": 2,
   "metadata": {},
   "outputs": [],
   "source": [
    "library(xlsx)\n",
    "library(readxl)\n",
    "library(stringr)\n",
    "library(\"dplyr\")\n",
    "library( readxl )"
   ]
  },
  {
   "cell_type": "code",
   "execution_count": 3,
   "metadata": {},
   "outputs": [
    {
     "data": {
      "text/html": [
       "'/Users/chen.liang/Desktop/变量/splc_analysis/data'"
      ],
      "text/latex": [
       "'/Users/chen.liang/Desktop/变量/splc\\_analysis/data'"
      ],
      "text/markdown": [
       "'/Users/chen.liang/Desktop/变量/splc_analysis/data'"
      ],
      "text/plain": [
       "[1] \"/Users/chen.liang/Desktop/变量/splc_analysis/data\""
      ]
     },
     "metadata": {},
     "output_type": "display_data"
    }
   ],
   "source": [
    "path = getwd()\n",
    "path = substr(path, 1, nchar(path)-9)\n",
    "setwd(paste0(path, \"data\"))\n",
    "getwd()"
   ]
  },
  {
   "cell_type": "markdown",
   "metadata": {},
   "source": [
    "# Read in Data"
   ]
  },
  {
   "cell_type": "code",
   "execution_count": 4,
   "metadata": {},
   "outputs": [],
   "source": [
    "get_semiconductor = function(){\n",
    "    path = paste0(getwd(), \"/Semi-Conductor/da_equipment.xlsx\")\n",
    "    data_eq = data.frame()\n",
    "    for(i in 1:length(excel_sheets(path))){\n",
    "        input = read.xlsx(path, i)\n",
    "        data_eq = rbind(data_eq, input)\n",
    "    }\n",
    "\n",
    "    path = paste0(getwd(), \"/Semi-Conductor/da_materials.xlsx\")\n",
    "    data_ma = data.frame()\n",
    "    for(i in 1:length(excel_sheets(path))){\n",
    "        input = read.xlsx(path, i)\n",
    "        data_ma = rbind(data_ma, input)\n",
    "    }\n",
    "\n",
    "    path = paste0(getwd(), \"/Semi-Conductor/da_storage.xlsx\")\n",
    "    data_st = data.frame()\n",
    "    for(i in 1:length(excel_sheets(path))){\n",
    "        input = read.xlsx(path, i)\n",
    "        data_st = rbind(data_st, input)\n",
    "    }\n",
    "\n",
    "    path = paste0(getwd(), \"/Semi-Conductor/da_yuanqi.xlsx\")\n",
    "    data_yq = data.frame()\n",
    "    for(i in 1:length(excel_sheets(path))){\n",
    "        input = read.xlsx(path, i)\n",
    "        data_yq = rbind(data_yq, input)\n",
    "    }\n",
    "\n",
    "    data_eq$type = \"eq\"\n",
    "    data_ma$type = \"ma\"\n",
    "    data_st$type = \"st\"\n",
    "    data_yq$type = \"yq\"\n",
    "\n",
    "    data = rbind(data_eq, data_ma, data_st, data_yq)\n",
    "    return(data)\n",
    "}\n",
    "\n",
    "get_phones = function(){\n",
    "    path = paste0(path, \"/CellPhone/AllPhones1009.xlsx\")\n",
    "    samsung = read.xlsx(path, \"samsung\")\n",
    "    xiaomi = read.xlsx(path, \"xiaomi\")\n",
    "    apple = read.xlsx(path, \"AAPL\")\n",
    "    huawei = read.xlsx(path, \"KMCACZ CH Equity\")\n",
    "    data = rbind(samsung,xiaomi, apple, huawei)\n",
    "    return(data)\n",
    "}"
   ]
  },
  {
   "cell_type": "code",
   "execution_count": 6,
   "metadata": {},
   "outputs": [
    {
     "data": {
      "text/html": [
       "<table>\n",
       "<thead><tr><th scope=col>com</th><th scope=col>com_N</th><th scope=col>sup</th><th scope=col>sup_N</th><th scope=col>cus</th><th scope=col>cus_N</th><th scope=col>rel_V_fr_S</th><th scope=col>rel_V_to_C</th><th scope=col>sup_country</th><th scope=col>sup_gics</th><th scope=col>cus_country</th><th scope=col>cus_gics</th><th scope=col>type</th></tr></thead>\n",
       "<tbody>\n",
       "\t<tr><td>AMAT US Equity                           </td><td>Applied Materials Inc                    </td><td>FLEX US Equity                           </td><td>Flex Ltd                                 </td><td>2330 TT Equity                           </td><td>Taiwan Semiconductor Manufacturing Co Ltd</td><td>74.485176                                </td><td>463.06                                   </td><td>US                                       </td><td>Technology Hardware &amp; Equipmen       </td><td>TW                                       </td><td>Semiconductors &amp; Semiconductor       </td><td>eq                                       </td></tr>\n",
       "</tbody>\n",
       "</table>\n"
      ],
      "text/latex": [
       "\\begin{tabular}{r|lllllllllllll}\n",
       " com & com\\_N & sup & sup\\_N & cus & cus\\_N & rel\\_V\\_fr\\_S & rel\\_V\\_to\\_C & sup\\_country & sup\\_gics & cus\\_country & cus\\_gics & type\\\\\n",
       "\\hline\n",
       "\t AMAT US Equity                            & Applied Materials Inc                     & FLEX US Equity                            & Flex Ltd                                  & 2330 TT Equity                            & Taiwan Semiconductor Manufacturing Co Ltd & 74.485176                                 & 463.06                                    & US                                        & Technology Hardware \\& Equipmen          & TW                                        & Semiconductors \\& Semiconductor          & eq                                       \\\\\n",
       "\\end{tabular}\n"
      ],
      "text/markdown": [
       "\n",
       "| com | com_N | sup | sup_N | cus | cus_N | rel_V_fr_S | rel_V_to_C | sup_country | sup_gics | cus_country | cus_gics | type |\n",
       "|---|---|---|---|---|---|---|---|---|---|---|---|---|\n",
       "| AMAT US Equity                            | Applied Materials Inc                     | FLEX US Equity                            | Flex Ltd                                  | 2330 TT Equity                            | Taiwan Semiconductor Manufacturing Co Ltd | 74.485176                                 | 463.06                                    | US                                        | Technology Hardware & Equipmen            | TW                                        | Semiconductors & Semiconductor            | eq                                        |\n",
       "\n"
      ],
      "text/plain": [
       "  com            com_N                 sup            sup_N    cus           \n",
       "1 AMAT US Equity Applied Materials Inc FLEX US Equity Flex Ltd 2330 TT Equity\n",
       "  cus_N                                     rel_V_fr_S rel_V_to_C sup_country\n",
       "1 Taiwan Semiconductor Manufacturing Co Ltd 74.485176  463.06     US         \n",
       "  sup_gics                       cus_country cus_gics                      \n",
       "1 Technology Hardware & Equipmen TW          Semiconductors & Semiconductor\n",
       "  type\n",
       "1 eq  "
      ]
     },
     "metadata": {},
     "output_type": "display_data"
    },
    {
     "data": {
      "text/html": [
       "12765"
      ],
      "text/latex": [
       "12765"
      ],
      "text/markdown": [
       "12765"
      ],
      "text/plain": [
       "[1] 12765"
      ]
     },
     "metadata": {},
     "output_type": "display_data"
    }
   ],
   "source": [
    "data = get_semiconductor()\n",
    "data[0:1,]\n",
    "nrow(data)"
   ]
  },
  {
   "cell_type": "markdown",
   "metadata": {},
   "source": [
    "### [Optional] Generate Node Request for Nodes not in \"Nodes_Data.csv\""
   ]
  },
  {
   "cell_type": "code",
   "execution_count": 8,
   "metadata": {},
   "outputs": [
    {
     "data": {
      "text/html": [
       "<table>\n",
       "<thead><tr><th scope=col>ticker</th><th scope=col>Name</th><th scope=col>country</th><th scope=col>gics</th></tr></thead>\n",
       "<tbody>\n",
       "\t<tr><td>SILTZ KS Equity                                           </td><td>=IF(ISBLANK(A2),\"\",BDP(A2, \"LONG_COMP_NAME\",\"\"))          </td><td>=IF(ISBLANK(A2),\"\",BDP(A2, \"CNTRY_OF_DOMICILE\",\"\"))       </td><td>=IF(ISBLANK(A2),\"\",BDP(A2, \"GICS_INDUSTRY_GROUP_NAME\",\"\"))</td></tr>\n",
       "</tbody>\n",
       "</table>\n"
      ],
      "text/latex": [
       "\\begin{tabular}{r|llll}\n",
       " ticker & Name & country & gics\\\\\n",
       "\\hline\n",
       "\t SILTZ KS Equity                                                  & =IF(ISBLANK(A2),\"\",BDP(A2, \"LONG\\_COMP\\_NAME\",\"\"))             & =IF(ISBLANK(A2),\"\",BDP(A2, \"CNTRY\\_OF\\_DOMICILE\",\"\"))          & =IF(ISBLANK(A2),\"\",BDP(A2, \"GICS\\_INDUSTRY\\_GROUP\\_NAME\",\"\"))\\\\\n",
       "\\end{tabular}\n"
      ],
      "text/markdown": [
       "\n",
       "| ticker | Name | country | gics |\n",
       "|---|---|---|---|\n",
       "| SILTZ KS Equity                                            | =IF(ISBLANK(A2),\"\",BDP(A2, \"LONG_COMP_NAME\",\"\"))           | =IF(ISBLANK(A2),\"\",BDP(A2, \"CNTRY_OF_DOMICILE\",\"\"))        | =IF(ISBLANK(A2),\"\",BDP(A2, \"GICS_INDUSTRY_GROUP_NAME\",\"\")) |\n",
       "\n"
      ],
      "text/plain": [
       "  ticker          Name                                            \n",
       "1 SILTZ KS Equity =IF(ISBLANK(A2),\"\",BDP(A2, \"LONG_COMP_NAME\",\"\"))\n",
       "  country                                            \n",
       "1 =IF(ISBLANK(A2),\"\",BDP(A2, \"CNTRY_OF_DOMICILE\",\"\"))\n",
       "  gics                                                      \n",
       "1 =IF(ISBLANK(A2),\"\",BDP(A2, \"GICS_INDUSTRY_GROUP_NAME\",\"\"))"
      ]
     },
     "metadata": {},
     "output_type": "display_data"
    }
   ],
   "source": [
    "data = data %>% mutate_at(vars(com, sup, cus), as.character)\n",
    "all_companies_ticker = unique(c(data$com, data$sup, data$cus))\n",
    "\n",
    "existing_nodes = read.csv(\"Data_Dict/Nodes_Data.csv\")\n",
    "existing_nodes = as.character(existing_nodes$ticker)\n",
    "\n",
    "new_ticker = setdiff(all_companies_ticker, existing_nodes)\n",
    "\n",
    "access_com_info = data.frame(\"ticker\" = new_ticker)\n",
    "access_com_info = access_com_info %>% filter(ticker!= 0 &\n",
    "                                             ticker!= \"#N/A N/A\",\n",
    "                                             ticker!= \"#N/A Invalid Security\",\n",
    "                                             ticker!= \"#N/A Requesting Data...\")\n",
    "\n",
    "get_Name=\"=IF(ISBLANK(A2),\\\"\\\",BDP(A2, \\\"LONG_COMP_NAME\\\",\\\"\\\"))\"\n",
    "get_country=\"=IF(ISBLANK(A2),\\\"\\\",BDP(A2, \\\"CNTRY_OF_DOMICILE\\\",\\\"\\\"))\"\n",
    "get_gics=\"=IF(ISBLANK(A2),\\\"\\\",BDP(A2, \\\"GICS_INDUSTRY_GROUP_NAME\\\",\\\"\\\"))\"\n",
    "\n",
    "\n",
    "access_com_info$Name = NA\n",
    "access_com_info$country = NA\n",
    "access_com_info$gics = NA\n",
    "for(i in 1:(nrow(access_com_info))){\n",
    "  company = paste0(\"A\", i+1)\n",
    "  access_com_info$Name[i] = gsub(\"A2\",company, get_Name)\n",
    "  access_com_info$country[i] = gsub(\"A2\",company, get_country)\n",
    "  access_com_info$gics[i] = gsub(\"A2\",company, get_gics)\n",
    "}\n",
    "\n",
    "# write.csv(access_com_info, \"Request/Node_info.csv\", row.names = F)\n",
    "write.xlsx(access_com_info, \"Request/Node_info.xlsx\", row.names = F)\n",
    "access_com_info[0:1,]"
   ]
  },
  {
   "cell_type": "markdown",
   "metadata": {},
   "source": [
    "### [Optional] With new Node_Info, update \"Nodes_Data.csv\""
   ]
  },
  {
   "cell_type": "code",
   "execution_count": null,
   "metadata": {},
   "outputs": [],
   "source": [
    "update = read.xlsx(\"Request/Node_info.xlsx\", 2)\n",
    "current = read.csv(\"Data_Dict/Nodes_Data.csv\")\n",
    "data = rbind(current, update)\n",
    "data=data[!is.na(data$id) & data$id!=\"\" & data$id!=\"#N/A Invalid Security\",]\n",
    "#Nodes$id <- str_replace_all(Nodes$id,\" \",\"_\")\n",
    "data=data[!duplicated(data),]\n",
    "write.csv(data, \"Data_Dict/Nodes_Data.csv\", row.names = F)"
   ]
  },
  {
   "cell_type": "markdown",
   "metadata": {},
   "source": [
    "### Combine All Nodes Data"
   ]
  },
  {
   "cell_type": "code",
   "execution_count": null,
   "metadata": {},
   "outputs": [],
   "source": []
  },
  {
   "cell_type": "markdown",
   "metadata": {},
   "source": [
    "# Format and Clean Data"
   ]
  },
  {
   "cell_type": "markdown",
   "metadata": {},
   "source": [
    "#### The following block is for importing data with different formats"
   ]
  },
  {
   "cell_type": "markdown",
   "metadata": {},
   "source": [
    "#### For old formats"
   ]
  },
  {
   "cell_type": "code",
   "execution_count": 7,
   "metadata": {},
   "outputs": [],
   "source": [
    "data = data %>% mutate_all(as.character)\n",
    "\n",
    "old_format_N = function(data){\n",
    "    supply_n = data[c(3,4,9,10)]\n",
    "    cus_n = data[c(5,6,11,12)]\n",
    "    colnames(supply_n)=c(\"ticker\",\"id\",\"country\",\"type_label\")\n",
    "    colnames(cus_n)=c(\"ticker\",\"id\",\"country\",\"type_label\")\n",
    "    Nodes = rbind(supply_n, cus_n)\n",
    "    remove(supply_n, cus_n)\n",
    "    return(Nodes)\n",
    "}\n",
    "\n",
    "old_format_E = function(data){\n",
    "    supply = data[c(2,4,7)]\n",
    "    cus = data[c(6,2,8)]\n",
    "    colnames(supply)=c(\"to\",\"from\",\"weight\")\n",
    "    colnames(cus)=c(\"to\",\"from\",\"weight\")\n",
    "    Edges = rbind(supply, cus)\n",
    "    remove(cus, supply)\n",
    "    return(Edges)\n",
    "}"
   ]
  },
  {
   "cell_type": "code",
   "execution_count": 8,
   "metadata": {},
   "outputs": [
    {
     "data": {
      "text/html": [
       "<table>\n",
       "<thead><tr><th scope=col>ticker</th><th scope=col>id</th><th scope=col>country</th><th scope=col>type_label</th></tr></thead>\n",
       "<tbody>\n",
       "\t<tr><td>FLEX US Equity                    </td><td>Flex Ltd                          </td><td>US                                </td><td>Technology Hardware &amp; Equipmen</td></tr>\n",
       "</tbody>\n",
       "</table>\n"
      ],
      "text/latex": [
       "\\begin{tabular}{r|llll}\n",
       " ticker & id & country & type\\_label\\\\\n",
       "\\hline\n",
       "\t FLEX US Equity                   & Flex Ltd                         & US                               & Technology Hardware \\& Equipmen\\\\\n",
       "\\end{tabular}\n"
      ],
      "text/markdown": [
       "\n",
       "| ticker | id | country | type_label |\n",
       "|---|---|---|---|\n",
       "| FLEX US Equity                 | Flex Ltd                       | US                             | Technology Hardware & Equipmen |\n",
       "\n"
      ],
      "text/plain": [
       "  ticker         id       country type_label                    \n",
       "1 FLEX US Equity Flex Ltd US      Technology Hardware & Equipmen"
      ]
     },
     "metadata": {},
     "output_type": "display_data"
    },
    {
     "data": {
      "text/html": [
       "<table>\n",
       "<thead><tr><th scope=col>to</th><th scope=col>from</th><th scope=col>weight</th></tr></thead>\n",
       "<tbody>\n",
       "\t<tr><td>Applied Materials Inc</td><td>Flex Ltd             </td><td>74.485176            </td></tr>\n",
       "</tbody>\n",
       "</table>\n"
      ],
      "text/latex": [
       "\\begin{tabular}{r|lll}\n",
       " to & from & weight\\\\\n",
       "\\hline\n",
       "\t Applied Materials Inc & Flex Ltd              & 74.485176            \\\\\n",
       "\\end{tabular}\n"
      ],
      "text/markdown": [
       "\n",
       "| to | from | weight |\n",
       "|---|---|---|\n",
       "| Applied Materials Inc | Flex Ltd              | 74.485176             |\n",
       "\n"
      ],
      "text/plain": [
       "  to                    from     weight   \n",
       "1 Applied Materials Inc Flex Ltd 74.485176"
      ]
     },
     "metadata": {},
     "output_type": "display_data"
    }
   ],
   "source": [
    "Nodes = old_format_N(data)\n",
    "Edges = old_format_E(data)\n",
    "\n",
    "Nodes[0:1,]\n",
    "Edges[0:1,]"
   ]
  },
  {
   "cell_type": "code",
   "execution_count": 11,
   "metadata": {},
   "outputs": [],
   "source": [
    "Edges=Edges[!is.na(Edges$from) & Edges$from!=\"\" & Edges$from!=\"#N/A Invalid Security\",]\n",
    "Edges=Edges[!is.na(Edges$to) & Edges$to!=\"\" & Edges$to!=\"#N/A Invalid Security\",]\n",
    "#Edges$from <- str_replace_all(Edges$from,\" \",\"_\")\n",
    "#Edges$to <- str_replace_all(Edges$to,\" \",\"_\")\n",
    "Edges=Edges[!duplicated(Edges),]\n",
    "\n",
    "Nodes=Nodes[!is.na(Nodes$id) & Nodes$id!=\"\" & Nodes$id!=\"#N/A Invalid Security\",]\n",
    "#Nodes$id <- str_replace_all(Nodes$id,\" \",\"_\")\n",
    "Nodes=Nodes[!duplicated(Nodes),]\n",
    "\n",
    "#check complete\n",
    "for(com in Edges$from){\n",
    "  if(!(com %in% Nodes$id)){\n",
    "    print(com)\n",
    "  }\n",
    "}\n",
    "for(com in Edges$to){\n",
    "  if(!(com %in% Nodes$id)){\n",
    "    print(com)\n",
    "  }\n",
    "}"
   ]
  },
  {
   "cell_type": "code",
   "execution_count": 10,
   "metadata": {},
   "outputs": [],
   "source": [
    "add = data.frame(\"ticker\" = NA, \"id\"=\"SK Siltron Co Ltd\", \n",
    "                 \"country\" = \"KR\", \"type_label\" = \"Semiconductors & Semiconductor\")\n",
    "Nodes = rbind(Nodes, add)"
   ]
  },
  {
   "cell_type": "code",
   "execution_count": 14,
   "metadata": {},
   "outputs": [],
   "source": [
    "Nodes_Data$country[Nodes_Data$country==\"HK\"]=\"CN\""
   ]
  },
  {
   "cell_type": "code",
   "execution_count": 12,
   "metadata": {},
   "outputs": [
    {
     "data": {
      "text/html": [
       "<table>\n",
       "<thead><tr><th scope=col>ticker</th><th scope=col>id</th><th scope=col>country</th><th scope=col>type_label</th></tr></thead>\n",
       "<tbody>\n",
       "\t<tr><td>FLEX US Equity                    </td><td>Flex Ltd                          </td><td>US                                </td><td>Technology Hardware &amp; Equipmen</td></tr>\n",
       "</tbody>\n",
       "</table>\n"
      ],
      "text/latex": [
       "\\begin{tabular}{r|llll}\n",
       " ticker & id & country & type\\_label\\\\\n",
       "\\hline\n",
       "\t FLEX US Equity                   & Flex Ltd                         & US                               & Technology Hardware \\& Equipmen\\\\\n",
       "\\end{tabular}\n"
      ],
      "text/markdown": [
       "\n",
       "| ticker | id | country | type_label |\n",
       "|---|---|---|---|\n",
       "| FLEX US Equity                 | Flex Ltd                       | US                             | Technology Hardware & Equipmen |\n",
       "\n"
      ],
      "text/plain": [
       "  ticker         id       country type_label                    \n",
       "1 FLEX US Equity Flex Ltd US      Technology Hardware & Equipmen"
      ]
     },
     "metadata": {},
     "output_type": "display_data"
    },
    {
     "data": {
      "text/html": [
       "<table>\n",
       "<thead><tr><th scope=col>to</th><th scope=col>from</th><th scope=col>weight</th></tr></thead>\n",
       "<tbody>\n",
       "\t<tr><td>Applied Materials Inc</td><td>Flex Ltd             </td><td>74.485176            </td></tr>\n",
       "</tbody>\n",
       "</table>\n"
      ],
      "text/latex": [
       "\\begin{tabular}{r|lll}\n",
       " to & from & weight\\\\\n",
       "\\hline\n",
       "\t Applied Materials Inc & Flex Ltd              & 74.485176            \\\\\n",
       "\\end{tabular}\n"
      ],
      "text/markdown": [
       "\n",
       "| to | from | weight |\n",
       "|---|---|---|\n",
       "| Applied Materials Inc | Flex Ltd              | 74.485176             |\n",
       "\n"
      ],
      "text/plain": [
       "  to                    from     weight   \n",
       "1 Applied Materials Inc Flex Ltd 74.485176"
      ]
     },
     "metadata": {},
     "output_type": "display_data"
    }
   ],
   "source": [
    "Nodes_Data = Nodes\n",
    "Edges_Data = Edges\n",
    "Nodes_Data[0:1,]\n",
    "Edges_Data[0:1,]"
   ]
  },
  {
   "cell_type": "code",
   "execution_count": 13,
   "metadata": {},
   "outputs": [],
   "source": [
    "path = getwd()\n",
    "setwd(paste0(path, \"/Temp\"))\n",
    "saveRDS(Nodes_Data, file = \"Nodes_Data.rds\")\n",
    "saveRDS(Edges_Data, file = \"Edges_Data.rds\")"
   ]
  },
  {
   "cell_type": "code",
   "execution_count": null,
   "metadata": {},
   "outputs": [],
   "source": []
  }
 ],
 "metadata": {
  "kernelspec": {
   "display_name": "R",
   "language": "R",
   "name": "ir"
  },
  "language_info": {
   "codemirror_mode": "r",
   "file_extension": ".r",
   "mimetype": "text/x-r-source",
   "name": "R",
   "pygments_lexer": "r",
   "version": "3.6.1"
  }
 },
 "nbformat": 4,
 "nbformat_minor": 2
}
