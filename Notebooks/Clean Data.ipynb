{
 "cells": [
  {
   "cell_type": "code",
   "execution_count": 1,
   "metadata": {},
   "outputs": [
    {
     "name": "stderr",
     "output_type": "stream",
     "text": [
      "\n",
      "Attaching package: ‘dplyr’\n",
      "\n",
      "The following objects are masked from ‘package:stats’:\n",
      "\n",
      "    filter, lag\n",
      "\n",
      "The following objects are masked from ‘package:base’:\n",
      "\n",
      "    intersect, setdiff, setequal, union\n",
      "\n"
     ]
    }
   ],
   "source": [
    "library(xlsx)\n",
    "library(readxl)\n",
    "library(stringr)\n",
    "library(\"dplyr\")"
   ]
  },
  {
   "cell_type": "code",
   "execution_count": 2,
   "metadata": {},
   "outputs": [],
   "source": [
    "path = getwd()\n",
    "path = substr(path, 1, nchar(path)-9)\n",
    "setwd(paste0(path, \"data\"))"
   ]
  },
  {
   "cell_type": "markdown",
   "metadata": {},
   "source": [
    "# Read in Data"
   ]
  },
  {
   "cell_type": "code",
   "execution_count": 14,
   "metadata": {},
   "outputs": [],
   "source": [
    "path = paste0(path, \"data/AllPhones1009.xlsx\")\n",
    "samsung = read.xlsx(path, \"samsung\")\n",
    "xiaomi = read.xlsx(path, \"xiaomi\")\n",
    "apple = read.xlsx(path, \"AAPL\")\n",
    "huawei = read.xlsx(path, \"KMCACZ CH Equity\")\n",
    "data = rbind(samsung,xiaomi, apple, huawei)"
   ]
  },
  {
   "cell_type": "code",
   "execution_count": 15,
   "metadata": {},
   "outputs": [
    {
     "data": {
      "text/html": [
       "<table>\n",
       "<thead><tr><th scope=col>com</th><th scope=col>sup</th><th scope=col>cus</th><th scope=col>rel_V_fr_S</th><th scope=col>rel_V_to_C</th></tr></thead>\n",
       "<tbody>\n",
       "\t<tr><td>005930 KS Equity</td><td>018260 KS Equity</td><td>AAPL US Equity  </td><td>1645.8388879091 </td><td>3563.0885546805 </td></tr>\n",
       "</tbody>\n",
       "</table>\n"
      ],
      "text/latex": [
       "\\begin{tabular}{r|lllll}\n",
       " com & sup & cus & rel\\_V\\_fr\\_S & rel\\_V\\_to\\_C\\\\\n",
       "\\hline\n",
       "\t 005930 KS Equity & 018260 KS Equity & AAPL US Equity   & 1645.8388879091  & 3563.0885546805 \\\\\n",
       "\\end{tabular}\n"
      ],
      "text/markdown": [
       "\n",
       "| com | sup | cus | rel_V_fr_S | rel_V_to_C |\n",
       "|---|---|---|---|---|\n",
       "| 005930 KS Equity | 018260 KS Equity | AAPL US Equity   | 1645.8388879091  | 3563.0885546805  |\n",
       "\n"
      ],
      "text/plain": [
       "  com              sup              cus            rel_V_fr_S     \n",
       "1 005930 KS Equity 018260 KS Equity AAPL US Equity 1645.8388879091\n",
       "  rel_V_to_C     \n",
       "1 3563.0885546805"
      ]
     },
     "metadata": {},
     "output_type": "display_data"
    }
   ],
   "source": [
    "data[0:1,]"
   ]
  },
  {
   "cell_type": "markdown",
   "metadata": {},
   "source": [
    "### Generate Node Request for Nodes not in \"Nodes_Data.csv\""
   ]
  },
  {
   "cell_type": "code",
   "execution_count": 17,
   "metadata": {},
   "outputs": [
    {
     "data": {
      "text/html": [
       "<table>\n",
       "<thead><tr><th scope=col>ticker</th><th scope=col>Name</th><th scope=col>country</th><th scope=col>gics</th></tr></thead>\n",
       "<tbody>\n",
       "\t<tr><td>300288 CH Equity                                          </td><td>=IF(ISBLANK(A2),\"\",BDP(A2, \"LONG_COMP_NAME\",\"\"))          </td><td>=IF(ISBLANK(A2),\"\",BDP(A2, \"CNTRY_OF_DOMICILE\",\"\"))       </td><td>=IF(ISBLANK(A2),\"\",BDP(A2, \"GICS_INDUSTRY_GROUP_NAME\",\"\"))</td></tr>\n",
       "</tbody>\n",
       "</table>\n"
      ],
      "text/latex": [
       "\\begin{tabular}{r|llll}\n",
       " ticker & Name & country & gics\\\\\n",
       "\\hline\n",
       "\t 300288 CH Equity                                                 & =IF(ISBLANK(A2),\"\",BDP(A2, \"LONG\\_COMP\\_NAME\",\"\"))             & =IF(ISBLANK(A2),\"\",BDP(A2, \"CNTRY\\_OF\\_DOMICILE\",\"\"))          & =IF(ISBLANK(A2),\"\",BDP(A2, \"GICS\\_INDUSTRY\\_GROUP\\_NAME\",\"\"))\\\\\n",
       "\\end{tabular}\n"
      ],
      "text/markdown": [
       "\n",
       "| ticker | Name | country | gics |\n",
       "|---|---|---|---|\n",
       "| 300288 CH Equity                                           | =IF(ISBLANK(A2),\"\",BDP(A2, \"LONG_COMP_NAME\",\"\"))           | =IF(ISBLANK(A2),\"\",BDP(A2, \"CNTRY_OF_DOMICILE\",\"\"))        | =IF(ISBLANK(A2),\"\",BDP(A2, \"GICS_INDUSTRY_GROUP_NAME\",\"\")) |\n",
       "\n"
      ],
      "text/plain": [
       "  ticker           Name                                            \n",
       "1 300288 CH Equity =IF(ISBLANK(A2),\"\",BDP(A2, \"LONG_COMP_NAME\",\"\"))\n",
       "  country                                            \n",
       "1 =IF(ISBLANK(A2),\"\",BDP(A2, \"CNTRY_OF_DOMICILE\",\"\"))\n",
       "  gics                                                      \n",
       "1 =IF(ISBLANK(A2),\"\",BDP(A2, \"GICS_INDUSTRY_GROUP_NAME\",\"\"))"
      ]
     },
     "metadata": {},
     "output_type": "display_data"
    }
   ],
   "source": [
    "data = data %>% mutate_at(vars(com, sup, cus), as.character)\n",
    "all_companies_ticker = unique(c(data$com, data$sup, data$cus))\n",
    "\n",
    "existing_nodes = read.csv(\"Data_Dict/Nodes_Data.csv\")\n",
    "existing_nodes = as.character(existing_nodes$ticker)\n",
    "\n",
    "new_ticker = setdiff(all_companies_ticker, existing_nodes)\n",
    "\n",
    "access_com_info = data.frame(\"ticker\" = new_ticker)\n",
    "access_com_info = access_com_info %>% filter(ticker!= 0 &\n",
    "                                             ticker!= \"#N/A N/A\",\n",
    "                                             ticker!= \"#N/A Invalid Security\",\n",
    "                                             ticker!= \"#N/A Requesting Data...\")\n",
    "\n",
    "get_Name=\"=IF(ISBLANK(A2),\\\"\\\",BDP(A2, \\\"LONG_COMP_NAME\\\",\\\"\\\"))\"\n",
    "get_country=\"=IF(ISBLANK(A2),\\\"\\\",BDP(A2, \\\"CNTRY_OF_DOMICILE\\\",\\\"\\\"))\"\n",
    "get_gics=\"=IF(ISBLANK(A2),\\\"\\\",BDP(A2, \\\"GICS_INDUSTRY_GROUP_NAME\\\",\\\"\\\"))\"\n",
    "\n",
    "\n",
    "access_com_info$Name = NA\n",
    "access_com_info$country = NA\n",
    "access_com_info$gics = NA\n",
    "for(i in 1:(nrow(access_com_info))){\n",
    "  company = paste0(\"A\", i+1)\n",
    "  access_com_info$Name[i] = gsub(\"A2\",company, get_Name)\n",
    "  access_com_info$country[i] = gsub(\"A2\",company, get_country)\n",
    "  access_com_info$gics[i] = gsub(\"A2\",company, get_gics)\n",
    "}\n",
    "\n",
    "# write.csv(access_com_info, \"Request/Node_info.csv\", row.names = F)\n",
    "write.xlsx(access_com_info, \"Request/Node_info.xlsx\", row.names = F)\n",
    "access_com_info[0:1,]"
   ]
  },
  {
   "cell_type": "markdown",
   "metadata": {},
   "source": [
    "### With new Node_Info, update \"Nodes_Data.csv\""
   ]
  },
  {
   "cell_type": "code",
   "execution_count": null,
   "metadata": {},
   "outputs": [],
   "source": [
    "update = read.xlsx(\"Request/Node_info.xlsx\", 2)\n",
    "current = read.csv(\"Data_Dict/Nodes_Data.csv\")\n",
    "data = rbind(current, update)\n",
    "data=data[!is.na(data$id) & data$id!=\"\" & data$id!=\"#N/A Invalid Security\",]\n",
    "#Nodes$id <- str_replace_all(Nodes$id,\" \",\"_\")\n",
    "data=data[!duplicated(data),]\n",
    "write.csv(data, \"Data_Dict/Nodes_Data.csv\", row.names = F)"
   ]
  },
  {
   "cell_type": "markdown",
   "metadata": {},
   "source": [
    "### Combine All Nodes Data"
   ]
  },
  {
   "cell_type": "code",
   "execution_count": null,
   "metadata": {},
   "outputs": [],
   "source": []
  },
  {
   "cell_type": "markdown",
   "metadata": {},
   "source": [
    "# Format and Clean Data"
   ]
  },
  {
   "cell_type": "markdown",
   "metadata": {},
   "source": [
    "#### The following block is for importing data with different formats"
   ]
  },
  {
   "cell_type": "code",
   "execution_count": 19,
   "metadata": {},
   "outputs": [
    {
     "data": {
      "text/html": [
       "<table>\n",
       "<thead><tr><th scope=col>com</th><th scope=col>com_N</th><th scope=col>sup</th><th scope=col>sup_N</th><th scope=col>cus</th><th scope=col>cus_N</th><th scope=col>rel_V_fr_S</th><th scope=col>rel_V_to_C</th><th scope=col>sup_country</th><th scope=col>sup_gics</th><th scope=col>cus_country</th><th scope=col>cus_gics</th></tr></thead>\n",
       "<tbody>\n",
       "\t<tr><td>KMCACZ CH Equity                      </td><td>Huawei Investment &amp; Holding Co Ltd</td><td>601138 CH Equity                      </td><td>Foxconn Industrial Internet Co Ltd    </td><td>941 HK Equity                         </td><td>China Mobile Ltd                      </td><td>1585.7283218852                       </td><td>1117.21200070292                      </td><td>CN                                    </td><td>Technology Hardware &amp; Equipmen    </td><td>HK                                    </td><td>Telecommunication Services            </td></tr>\n",
       "</tbody>\n",
       "</table>\n"
      ],
      "text/latex": [
       "\\begin{tabular}{r|llllllllllll}\n",
       " com & com\\_N & sup & sup\\_N & cus & cus\\_N & rel\\_V\\_fr\\_S & rel\\_V\\_to\\_C & sup\\_country & sup\\_gics & cus\\_country & cus\\_gics\\\\\n",
       "\\hline\n",
       "\t KMCACZ CH Equity                     & Huawei Investment \\& Holding Co Ltd & 601138 CH Equity                     & Foxconn Industrial Internet Co Ltd   & 941 HK Equity                        & China Mobile Ltd                     & 1585.7283218852                      & 1117.21200070292                     & CN                                   & Technology Hardware \\& Equipmen     & HK                                   & Telecommunication Services          \\\\\n",
       "\\end{tabular}\n"
      ],
      "text/markdown": [
       "\n",
       "| com | com_N | sup | sup_N | cus | cus_N | rel_V_fr_S | rel_V_to_C | sup_country | sup_gics | cus_country | cus_gics |\n",
       "|---|---|---|---|---|---|---|---|---|---|---|---|\n",
       "| KMCACZ CH Equity                   | Huawei Investment & Holding Co Ltd | 601138 CH Equity                   | Foxconn Industrial Internet Co Ltd | 941 HK Equity                      | China Mobile Ltd                   | 1585.7283218852                    | 1117.21200070292                   | CN                                 | Technology Hardware & Equipmen     | HK                                 | Telecommunication Services         |\n",
       "\n"
      ],
      "text/plain": [
       "  com              com_N                              sup             \n",
       "1 KMCACZ CH Equity Huawei Investment & Holding Co Ltd 601138 CH Equity\n",
       "  sup_N                              cus           cus_N           \n",
       "1 Foxconn Industrial Internet Co Ltd 941 HK Equity China Mobile Ltd\n",
       "  rel_V_fr_S      rel_V_to_C       sup_country sup_gics                      \n",
       "1 1585.7283218852 1117.21200070292 CN          Technology Hardware & Equipmen\n",
       "  cus_country cus_gics                  \n",
       "1 HK          Telecommunication Services"
      ]
     },
     "metadata": {},
     "output_type": "display_data"
    }
   ],
   "source": [
    "#data = rbind(samsung,xiaomi, apple, huawei)\n",
    "data <- read.xlsx(\"Huawei.xlsx\", 2)\n",
    "data[0:1,]"
   ]
  },
  {
   "cell_type": "markdown",
   "metadata": {},
   "source": [
    "#### For old formats"
   ]
  },
  {
   "cell_type": "code",
   "execution_count": 20,
   "metadata": {},
   "outputs": [
    {
     "data": {
      "text/html": [
       "<table>\n",
       "<thead><tr><th scope=col>ticker</th><th scope=col>id</th><th scope=col>country</th><th scope=col>type_label</th></tr></thead>\n",
       "<tbody>\n",
       "\t<tr><td>601138 CH Equity                  </td><td>Foxconn Industrial Internet Co Ltd</td><td>CN                                </td><td>Technology Hardware &amp; Equipmen</td></tr>\n",
       "</tbody>\n",
       "</table>\n"
      ],
      "text/latex": [
       "\\begin{tabular}{r|llll}\n",
       " ticker & id & country & type\\_label\\\\\n",
       "\\hline\n",
       "\t 601138 CH Equity                   & Foxconn Industrial Internet Co Ltd & CN                                 & Technology Hardware \\& Equipmen  \\\\\n",
       "\\end{tabular}\n"
      ],
      "text/markdown": [
       "\n",
       "| ticker | id | country | type_label |\n",
       "|---|---|---|---|\n",
       "| 601138 CH Equity                   | Foxconn Industrial Internet Co Ltd | CN                                 | Technology Hardware & Equipmen     |\n",
       "\n"
      ],
      "text/plain": [
       "  ticker           id                                 country\n",
       "1 601138 CH Equity Foxconn Industrial Internet Co Ltd CN     \n",
       "  type_label                    \n",
       "1 Technology Hardware & Equipmen"
      ]
     },
     "metadata": {},
     "output_type": "display_data"
    },
    {
     "data": {
      "text/html": [
       "<table>\n",
       "<thead><tr><th scope=col>to</th><th scope=col>from</th><th scope=col>weight</th></tr></thead>\n",
       "<tbody>\n",
       "\t<tr><td>Huawei Investment &amp; Holding Co Ltd</td><td>Foxconn Industrial Internet Co Ltd    </td><td>1585.7283218852                       </td></tr>\n",
       "</tbody>\n",
       "</table>\n"
      ],
      "text/latex": [
       "\\begin{tabular}{r|lll}\n",
       " to & from & weight\\\\\n",
       "\\hline\n",
       "\t Huawei Investment \\& Holding Co Ltd & Foxconn Industrial Internet Co Ltd   & 1585.7283218852                     \\\\\n",
       "\\end{tabular}\n"
      ],
      "text/markdown": [
       "\n",
       "| to | from | weight |\n",
       "|---|---|---|\n",
       "| Huawei Investment & Holding Co Ltd | Foxconn Industrial Internet Co Ltd | 1585.7283218852                    |\n",
       "\n"
      ],
      "text/plain": [
       "  to                                 from                              \n",
       "1 Huawei Investment & Holding Co Ltd Foxconn Industrial Internet Co Ltd\n",
       "  weight         \n",
       "1 1585.7283218852"
      ]
     },
     "metadata": {},
     "output_type": "display_data"
    }
   ],
   "source": [
    "data = data %>% mutate_all(as.character)\n",
    "\n",
    "supply_n = data[c(3,4,9,10)]\n",
    "cus_n = data[c(5,6,11,12)]\n",
    "colnames(supply_n)=c(\"ticker\",\"id\",\"country\",\"type_label\")\n",
    "colnames(cus_n)=c(\"ticker\",\"id\",\"country\",\"type_label\")\n",
    "Nodes = rbind(supply_n, cus_n)\n",
    "remove(supply_n, cus_n)\n",
    "\n",
    "supply = data[c(2,4,7)]\n",
    "cus = data[c(6,2,8)]\n",
    "colnames(supply)=c(\"to\",\"from\",\"weight\")\n",
    "colnames(cus)=c(\"to\",\"from\",\"weight\")\n",
    "Edges = rbind(supply, cus)\n",
    "remove(cus, supply)\n",
    "\n",
    "Nodes[0:1,]\n",
    "Edges[0:1,]"
   ]
  },
  {
   "cell_type": "code",
   "execution_count": 22,
   "metadata": {},
   "outputs": [],
   "source": [
    "Edges=Edges[!is.na(Edges$from) & Edges$from!=\"\" & Edges$from!=\"#N/A Invalid Security\",]\n",
    "Edges=Edges[!is.na(Edges$to) & Edges$to!=\"\" & Edges$to!=\"#N/A Invalid Security\",]\n",
    "#Edges$from <- str_replace_all(Edges$from,\" \",\"_\")\n",
    "#Edges$to <- str_replace_all(Edges$to,\" \",\"_\")\n",
    "Edges=Edges[!duplicated(Edges),]\n",
    "\n",
    "Nodes=Nodes[!is.na(Nodes$id) & Nodes$id!=\"\" & Nodes$id!=\"#N/A Invalid Security\",]\n",
    "#Nodes$id <- str_replace_all(Nodes$id,\" \",\"_\")\n",
    "Nodes=Nodes[!duplicated(Nodes),]\n",
    "\n",
    "#check complete\n",
    "for(com in Edges$from){\n",
    "  if(!(com %in% Nodes$id)){\n",
    "    print(com)\n",
    "  }\n",
    "}\n",
    "for(com in Edges$to){\n",
    "  if(!(com %in% Nodes$id)){\n",
    "    print(com)\n",
    "  }\n",
    "}"
   ]
  },
  {
   "cell_type": "code",
   "execution_count": 25,
   "metadata": {},
   "outputs": [
    {
     "data": {
      "text/html": [
       "<table>\n",
       "<thead><tr><th scope=col>ticker</th><th scope=col>id</th><th scope=col>country</th><th scope=col>type_label</th></tr></thead>\n",
       "<tbody>\n",
       "\t<tr><td>601138 CH Equity                  </td><td>Foxconn Industrial Internet Co Ltd</td><td>CN                                </td><td>Technology Hardware &amp; Equipmen</td></tr>\n",
       "</tbody>\n",
       "</table>\n"
      ],
      "text/latex": [
       "\\begin{tabular}{r|llll}\n",
       " ticker & id & country & type\\_label\\\\\n",
       "\\hline\n",
       "\t 601138 CH Equity                   & Foxconn Industrial Internet Co Ltd & CN                                 & Technology Hardware \\& Equipmen  \\\\\n",
       "\\end{tabular}\n"
      ],
      "text/markdown": [
       "\n",
       "| ticker | id | country | type_label |\n",
       "|---|---|---|---|\n",
       "| 601138 CH Equity                   | Foxconn Industrial Internet Co Ltd | CN                                 | Technology Hardware & Equipmen     |\n",
       "\n"
      ],
      "text/plain": [
       "  ticker           id                                 country\n",
       "1 601138 CH Equity Foxconn Industrial Internet Co Ltd CN     \n",
       "  type_label                    \n",
       "1 Technology Hardware & Equipmen"
      ]
     },
     "metadata": {},
     "output_type": "display_data"
    },
    {
     "data": {
      "text/html": [
       "<table>\n",
       "<thead><tr><th scope=col>to</th><th scope=col>from</th><th scope=col>weight</th></tr></thead>\n",
       "<tbody>\n",
       "\t<tr><td>Huawei Investment &amp; Holding Co Ltd</td><td>Foxconn Industrial Internet Co Ltd    </td><td>1585.7283218852                       </td></tr>\n",
       "</tbody>\n",
       "</table>\n"
      ],
      "text/latex": [
       "\\begin{tabular}{r|lll}\n",
       " to & from & weight\\\\\n",
       "\\hline\n",
       "\t Huawei Investment \\& Holding Co Ltd & Foxconn Industrial Internet Co Ltd   & 1585.7283218852                     \\\\\n",
       "\\end{tabular}\n"
      ],
      "text/markdown": [
       "\n",
       "| to | from | weight |\n",
       "|---|---|---|\n",
       "| Huawei Investment & Holding Co Ltd | Foxconn Industrial Internet Co Ltd | 1585.7283218852                    |\n",
       "\n"
      ],
      "text/plain": [
       "  to                                 from                              \n",
       "1 Huawei Investment & Holding Co Ltd Foxconn Industrial Internet Co Ltd\n",
       "  weight         \n",
       "1 1585.7283218852"
      ]
     },
     "metadata": {},
     "output_type": "display_data"
    }
   ],
   "source": [
    "Nodes_Data = Nodes\n",
    "Edges_Data = Edges\n",
    "Nodes_Data[0:1,]\n",
    "Edges_Data[0:1,]"
   ]
  },
  {
   "cell_type": "code",
   "execution_count": 32,
   "metadata": {},
   "outputs": [],
   "source": [
    "path = getwd()\n",
    "setwd(paste0(path, \"/Temp\"))\n",
    "saveRDS(Nodes_Data, file = \"Nodes_Data.rds\")\n",
    "saveRDS(Edges_Data, file = \"Edges_Data.rds\")\n"
   ]
  },
  {
   "cell_type": "code",
   "execution_count": null,
   "metadata": {},
   "outputs": [],
   "source": []
  }
 ],
 "metadata": {
  "kernelspec": {
   "display_name": "R",
   "language": "R",
   "name": "ir"
  },
  "language_info": {
   "codemirror_mode": "r",
   "file_extension": ".r",
   "mimetype": "text/x-r-source",
   "name": "R",
   "pygments_lexer": "r",
   "version": "3.6.1"
  }
 },
 "nbformat": 4,
 "nbformat_minor": 2
}
